{
 "cells": [
  {
   "cell_type": "code",
   "execution_count": 190,
   "id": "603c88fc",
   "metadata": {},
   "outputs": [
    {
     "name": "stdout",
     "output_type": "stream",
     "text": [
      "1789.1718334292052\n"
     ]
    },
    {
     "data": {
      "image/png": "[encoded data removed]",
      "text/plain": [
       "<Figure size 432x288 with 1 Axes>"
      ]
     },
     "metadata": {
      "needs_background": "light"
     },
     "output_type": "display_data"
    }
   ],
   "source": [
    "import matplotlib.pyplot as plt\n",
    "import math\n",
    "import numpy as np\n",
    "import scipy\n",
    "from scipy.stats import poisson\n",
    "import statistics\n",
    "\n",
    "\n",
    "\n",
    "\n",
    "\n",
    "\n",
    "import matplotlib.pyplot as plt\n",
    "import math\n",
    "import numpy as np\n",
    "import scipy\n",
    "from scipy.stats import poisson\n",
    "import statistics\n",
    "\n",
    "\n",
    "\n",
    "\n",
    "\n",
    "\n",
    "x=[]\n",
    "y=[]\n",
    "\n",
    "\n",
    "#leggo i dati \n",
    "for line in open('prova.txt', 'r'):\n",
    "    lines = [i for i in line.split()]\n",
    "    x.append(int(lines[1]))\n",
    "    y.append(int(lines[0]))\n",
    "    \n",
    "for i in range(0,151):\n",
    "    x[i]=x[i]-17\n",
    "\n",
    "std=statistics.stdev(y)\n",
    "print(std)\n",
    "#plot dei nuovi positivi nel periodo considerato\n",
    "plt.title(\"Italy's datas 12 march 2020 - 8 august 2020\")\n",
    "plt.xlabel('Day')\n",
    "plt.ylabel('Contagion')\n",
    "plt.plot(x, y, marker = '.', c = 'g')\n",
    "plt.grid()\n",
    "plt.show()"
   ]
  },
  {
   "cell_type": "code",
   "execution_count": 191,
   "id": "c4af2434",
   "metadata": {},
   "outputs": [],
   "source": [
    "def Gomp(i,K,r,x0):\n",
    "    c=np.log(1./K)\n",
    "    g=K*np.exp(c*np.exp(-r*np.array(x[i]-x0)))\n",
    "    return g\n",
    "\n",
    "\n",
    "#differenze finite Gompertz\n",
    "def diff_Gomp(i,K,r,x0):\n",
    "    h = Gomp(x[i+1],K,r,x0)-Gomp(x[i],K,r,x0)\n",
    "    return h"
   ]
  },
  {
   "cell_type": "code",
   "execution_count": 192,
   "id": "68e2bd9c",
   "metadata": {},
   "outputs": [],
   "source": [
    "#definisco la funzione che calcola la log-likelihood \n",
    "def likelihood(x,y,theta):\n",
    "    K, r, x0 = theta\n",
    "\n",
    "    l=[None]*150\n",
    "    z=[None]*150\n",
    "    #poisson.pmf(k,m) \n",
    "    for i in range(0,150):\n",
    "        z[i]=poisson.pmf(y[i],diff_Gomp(x[i],K,r,x0))\n",
    "        l[i]=np.log(z[i])\n",
    "    return np.nansum(l)\n",
    "\n"
   ]
  },
  {
   "cell_type": "code",
   "execution_count": 193,
   "id": "010e384b",
   "metadata": {},
   "outputs": [
    {
     "name": "stdout",
     "output_type": "stream",
     "text": [
      "0.0\n"
     ]
    },
    {
     "name": "stderr",
     "output_type": "stream",
     "text": [
      "C:\\Users\\marco\\AppData\\Local\\Temp\\ipykernel_26728\\281823555.py:10: RuntimeWarning: divide by zero encountered in log\n",
      "  l[i]=np.log(z[i])\n"
     ]
    },
    {
     "ename": "IndexError",
     "evalue": "list index out of range",
     "output_type": "error",
     "traceback": [
      "\u001b[1;31m---------------------------------------------------------------------------\u001b[0m",
      "\u001b[1;31mIndexError\u001b[0m                                Traceback (most recent call last)",
      "Input \u001b[1;32mIn [193]\u001b[0m, in \u001b[0;36m<cell line: 18>\u001b[1;34m()\u001b[0m\n\u001b[0;32m     15\u001b[0m theta \u001b[38;5;241m=\u001b[39m [\u001b[38;5;241m100000.\u001b[39m, \u001b[38;5;241m0.05\u001b[39m , \u001b[38;5;241m-\u001b[39m\u001b[38;5;241m15\u001b[39m]\n\u001b[0;32m     17\u001b[0m \u001b[38;5;28mprint\u001b[39m(log_prior(theta))\n\u001b[1;32m---> 18\u001b[0m \u001b[38;5;28mprint\u001b[39m(\u001b[43mlog_pos\u001b[49m\u001b[43m(\u001b[49m\u001b[43mtheta\u001b[49m\u001b[43m,\u001b[49m\u001b[43mx\u001b[49m\u001b[43m,\u001b[49m\u001b[43my\u001b[49m\u001b[43m)\u001b[49m)\n",
      "Input \u001b[1;32mIn [193]\u001b[0m, in \u001b[0;36mlog_pos\u001b[1;34m(theta, x, y)\u001b[0m\n\u001b[0;32m     11\u001b[0m \u001b[38;5;28;01mif\u001b[39;00m \u001b[38;5;129;01mnot\u001b[39;00m np\u001b[38;5;241m.\u001b[39misfinite(lp):\n\u001b[0;32m     12\u001b[0m     \u001b[38;5;28;01mreturn\u001b[39;00m \u001b[38;5;241m-\u001b[39mnp\u001b[38;5;241m.\u001b[39minf\n\u001b[1;32m---> 13\u001b[0m \u001b[38;5;28;01mreturn\u001b[39;00m lp \u001b[38;5;241m+\u001b[39m \u001b[43mlikelihood\u001b[49m\u001b[43m(\u001b[49m\u001b[43mx\u001b[49m\u001b[43m,\u001b[49m\u001b[43my\u001b[49m\u001b[43m,\u001b[49m\u001b[43mtheta\u001b[49m\u001b[43m)\u001b[49m\n",
      "Input \u001b[1;32mIn [192]\u001b[0m, in \u001b[0;36mlikelihood\u001b[1;34m(x, y, theta)\u001b[0m\n\u001b[0;32m      7\u001b[0m \u001b[38;5;66;03m#poisson.pmf(k,m) \u001b[39;00m\n\u001b[0;32m      8\u001b[0m \u001b[38;5;28;01mfor\u001b[39;00m i \u001b[38;5;129;01min\u001b[39;00m \u001b[38;5;28mrange\u001b[39m(\u001b[38;5;241m0\u001b[39m,\u001b[38;5;241m150\u001b[39m):\n\u001b[1;32m----> 9\u001b[0m     z[i]\u001b[38;5;241m=\u001b[39mpoisson\u001b[38;5;241m.\u001b[39mpmf(y[i],\u001b[43mdiff_Gomp\u001b[49m\u001b[43m(\u001b[49m\u001b[43mx\u001b[49m\u001b[43m[\u001b[49m\u001b[43mi\u001b[49m\u001b[43m]\u001b[49m\u001b[43m,\u001b[49m\u001b[43mK\u001b[49m\u001b[43m,\u001b[49m\u001b[43mr\u001b[49m\u001b[43m,\u001b[49m\u001b[43mx0\u001b[49m\u001b[43m)\u001b[49m)\n\u001b[0;32m     10\u001b[0m     l[i]\u001b[38;5;241m=\u001b[39mnp\u001b[38;5;241m.\u001b[39mlog(z[i])\n\u001b[0;32m     11\u001b[0m \u001b[38;5;28;01mreturn\u001b[39;00m np\u001b[38;5;241m.\u001b[39mnansum(l)\n",
      "Input \u001b[1;32mIn [191]\u001b[0m, in \u001b[0;36mdiff_Gomp\u001b[1;34m(i, K, r, x0)\u001b[0m\n\u001b[0;32m      8\u001b[0m \u001b[38;5;28;01mdef\u001b[39;00m \u001b[38;5;21mdiff_Gomp\u001b[39m(i,K,r,x0):\n\u001b[1;32m----> 9\u001b[0m     h \u001b[38;5;241m=\u001b[39m \u001b[43mGomp\u001b[49m\u001b[43m(\u001b[49m\u001b[43mx\u001b[49m\u001b[43m[\u001b[49m\u001b[43mi\u001b[49m\u001b[38;5;241;43m+\u001b[39;49m\u001b[38;5;241;43m1\u001b[39;49m\u001b[43m]\u001b[49m\u001b[43m,\u001b[49m\u001b[43mK\u001b[49m\u001b[43m,\u001b[49m\u001b[43mr\u001b[49m\u001b[43m,\u001b[49m\u001b[43mx0\u001b[49m\u001b[43m)\u001b[49m\u001b[38;5;241m-\u001b[39mGomp(x[i],K,r,x0)\n\u001b[0;32m     10\u001b[0m     \u001b[38;5;28;01mreturn\u001b[39;00m h\n",
      "Input \u001b[1;32mIn [191]\u001b[0m, in \u001b[0;36mGomp\u001b[1;34m(i, K, r, x0)\u001b[0m\n\u001b[0;32m      1\u001b[0m \u001b[38;5;28;01mdef\u001b[39;00m \u001b[38;5;21mGomp\u001b[39m(i,K,r,x0):\n\u001b[0;32m      2\u001b[0m     c\u001b[38;5;241m=\u001b[39mnp\u001b[38;5;241m.\u001b[39mlog(\u001b[38;5;241m1.\u001b[39m\u001b[38;5;241m/\u001b[39mK)\n\u001b[1;32m----> 3\u001b[0m     g\u001b[38;5;241m=\u001b[39mK\u001b[38;5;241m*\u001b[39mnp\u001b[38;5;241m.\u001b[39mexp(c\u001b[38;5;241m*\u001b[39mnp\u001b[38;5;241m.\u001b[39mexp(\u001b[38;5;241m-\u001b[39mr\u001b[38;5;241m*\u001b[39mnp\u001b[38;5;241m.\u001b[39marray(\u001b[43mx\u001b[49m\u001b[43m[\u001b[49m\u001b[43mi\u001b[49m\u001b[43m]\u001b[49m\u001b[38;5;241m-\u001b[39mx0)))\n\u001b[0;32m      4\u001b[0m     \u001b[38;5;28;01mreturn\u001b[39;00m g\n",
      "\u001b[1;31mIndexError\u001b[0m: list index out of range"
     ]
    }
   ],
   "source": [
    "#definisco log prior e log pos\n",
    "def log_prior(theta):\n",
    "    K, r, x0 = theta\n",
    "    if x0 < 0. and r >0. and K>0.:\n",
    "        return 0.0\n",
    "    return -np.inf\n",
    "\n",
    "\n",
    "def log_pos(theta, x, y):\n",
    "    lp = log_prior(theta)\n",
    "    if not np.isfinite(lp):\n",
    "        return -np.inf\n",
    "    return lp + likelihood(x,y,theta)\n",
    "\n",
    "theta = [100000., 0.05 , -15]\n",
    "\n",
    "print(log_prior(theta))\n",
    "print(log_pos(theta,x,y))"
   ]
  },
  {
   "cell_type": "code",
   "execution_count": null,
   "id": "58583f5a",
   "metadata": {},
   "outputs": [],
   "source": []
  }
 ],
 "metadata": {
  "kernelspec": {
   "display_name": "Python 3 (ipykernel)",
   "language": "python",
   "name": "python3"
  },
  "language_info": {
   "codemirror_mode": {
    "name": "ipython",
    "version": 3
   },
   "file_extension": ".py",
   "mimetype": "text/x-python",
   "name": "python",
   "nbconvert_exporter": "python",
   "pygments_lexer": "ipython3",
   "version": "3.9.12"
  }
 },
 "nbformat": 4,
 "nbformat_minor": 5
}
